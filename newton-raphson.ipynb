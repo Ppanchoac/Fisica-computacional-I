{
 "cells": [
  {
   "cell_type": "markdown",
   "metadata": {},
   "source": [
    "Metodo Newton-Raphson"
   ]
  },
  {
   "cell_type": "code",
   "execution_count": 1,
   "metadata": {},
   "outputs": [],
   "source": [
    "import numpy as np"
   ]
  },
  {
   "cell_type": "code",
   "execution_count": 2,
   "metadata": {},
   "outputs": [],
   "source": [
    "def f(x):\n",
    "    f= -(x**3)*(np.cos(x))**2 -2*x**2 -10*x+20 -(np.exp(x))\n",
    "    return f"
   ]
  },
  {
   "cell_type": "markdown",
   "metadata": {},
   "source": [
    "Aqui definimos la funcion f, de aqui en adelante f = funcion (lo hace el return)"
   ]
  },
  {
   "cell_type": "code",
   "execution_count": 3,
   "metadata": {},
   "outputs": [],
   "source": [
    "def df(x):\n",
    "    df=-3*(x**2)*(np.cos(x))**2+2*(x**3)*(np.sin(2*x))-4*x-10-np.exp(x)\n",
    "    return df"
   ]
  },
  {
   "cell_type": "markdown",
   "metadata": {},
   "source": [
    "Y su respectiva derivada"
   ]
  },
  {
   "cell_type": "code",
   "execution_count": 4,
   "metadata": {},
   "outputs": [
    {
     "name": "stdout",
     "output_type": "stream",
     "text": [
      "Ingrese semilla:5\n",
      "Ingrese error: 0.0002\n",
      "1 4.2558315910416376 0.7441684089583624\n",
      "2 14.629826551561196 10.373994960519559\n",
      "3 13.631672191738279 0.9981543598229177\n",
      "4 12.625416518436369 1.0062556733019097\n",
      "5 11.617634469412955 1.0077820490234135\n",
      "6 10.6374729801689 0.9801614892440558\n",
      "7 9.58902201213828 1.04845096803062\n",
      "8 8.49356244231399 1.095459569824289\n",
      "9 7.633946002563423 0.8596164397505675\n",
      "10 6.33212392088002 1.3018220816834027\n",
      "11 4.926335220963747 1.4057886999162736\n",
      "12 4.107827413112241 0.818507807851506\n",
      "13 9.404008030472255 5.296180617360014\n",
      "14 8.348066753674154 1.0559412767981016\n",
      "15 7.48589884398203 0.8621679096921238\n",
      "16 5.921622265723906 1.5642765782581236\n",
      "17 5.06320486727876 0.8584173984451464\n",
      "18 4.363660923582121 0.6995439436966384\n",
      "19 -20.90327111706664 25.26693204064876\n",
      "20 -20.81631772795405 0.08695338911259043\n",
      "21 -20.76204182982229 0.0542758981317597\n",
      "22 -20.729480680561625 0.032561149260665445\n",
      "23 -20.710938965473954 0.018541715087671662\n",
      "24 -20.700874915433467 0.01006405004048716\n",
      "25 -20.695602031485397 0.005272883948070017\n",
      "26 -20.69290022841896 0.0027018030664365256\n",
      "27 -20.691533254270627 0.0013669741483326447\n",
      "28 -20.69084630469273 0.0006869495778971668\n",
      "29 -20.690502297576746 0.0003440071159843683\n",
      "30 -20.69033033400029 0.00017196357645588023\n"
     ]
    }
   ],
   "source": [
    "x0=float(input('Ingrese semilla:'))\n",
    "error=float(input('Ingrese error: '))\n",
    "rango=error*10\n",
    "contador=1\n",
    "while (rango > error):\n",
    "    z=-(f(x0)/df(x0)) + x0\n",
    "    rango=abs(z-x0)\n",
    "    print(contador,z,rango)\n",
    "    x0=z\n",
    "    contador =contador+1"
   ]
  },
  {
   "cell_type": "markdown",
   "metadata": {},
   "source": [
    "z tomara el valor x1, la semilla x0 y desde x0 en adelante buscaremos acortar distancias\n",
    "el error sera la distancia entre $x_{i}$ y $x_{i-1}$"
   ]
  },
  {
   "cell_type": "code",
   "execution_count": null,
   "metadata": {},
   "outputs": [],
   "source": []
  }
 ],
 "metadata": {
  "kernelspec": {
   "display_name": "Python 3",
   "language": "python",
   "name": "python3"
  },
  "language_info": {
   "codemirror_mode": {
    "name": "ipython",
    "version": 3
   },
   "file_extension": ".py",
   "mimetype": "text/x-python",
   "name": "python",
   "nbconvert_exporter": "python",
   "pygments_lexer": "ipython3",
   "version": "3.6.9"
  }
 },
 "nbformat": 4,
 "nbformat_minor": 2
}
